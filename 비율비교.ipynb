{
 "cells": [
  {
   "cell_type": "code",
   "execution_count": 16,
   "metadata": {},
   "outputs": [
    {
     "name": "stdout",
     "output_type": "stream",
     "text": [
      "Binomial Statistic is 0.45\n",
      "p-value is 0.009961\n"
     ]
    }
   ],
   "source": [
    "from scipy.stats import binomtest\n",
    "\n",
    "# 표본 크기와 성공 횟수\n",
    "tot_size = 60\n",
    "success_size = 27\n",
    "\n",
    "# 귀무가설, 기대 부율\n",
    "p0 = 0.3\n",
    "\n",
    "# 이항 검정 실행\n",
    "result = binomtest(success_size,tot_size,p0,alternative='greater')\n",
    "\n",
    "# 결과 출력\n",
    "print(f'Binomial Statistic is {result.statistic:.2}')\n",
    "print(f'p-value is {result.pvalue:.4}')"
   ]
  },
  {
   "cell_type": "code",
   "execution_count": 8,
   "metadata": {},
   "outputs": [
    {
     "name": "stdout",
     "output_type": "stream",
     "text": [
      "Z-statistic is 0.88\n",
      "P-value is 0.3775\n"
     ]
    }
   ],
   "source": [
    "import numpy as np\n",
    "from scipy import stats\n",
    "\n",
    "# 자료 정보\n",
    "n1=100\n",
    "x1=88\n",
    "n2=150\n",
    "x2=126\n",
    "\n",
    "# 비율 계산\n",
    "p1=x1/n1\n",
    "p2=x2/n2\n",
    "\n",
    "# 전체 비율계산 및 정규분포 Z 검정\n",
    "p = (x1+x2)/(n1+n2)\n",
    "z_statistic = (p1-p2)/np.sqrt(p*(1-p)*(1/n1+1/n2))\n",
    "\n",
    "# 표준정규분포에서 p-value 계산(양측검정)\n",
    "p_value = 2 * (1-stats.norm.cdf(np.abs(z_statistic)))\n",
    "\n",
    "# 결과 출력\n",
    "print(f'Z-statistic is {z_statistic:.2}')\n",
    "print(f'P-value is {p_value:.4}')"
   ]
  },
  {
   "cell_type": "code",
   "execution_count": null,
   "metadata": {},
   "outputs": [],
   "source": []
  }
 ],
 "metadata": {
  "kernelspec": {
   "display_name": "Python 3",
   "language": "python",
   "name": "python3"
  },
  "language_info": {
   "codemirror_mode": {
    "name": "ipython",
    "version": 3
   },
   "file_extension": ".py",
   "mimetype": "text/x-python",
   "name": "python",
   "nbconvert_exporter": "python",
   "pygments_lexer": "ipython3",
   "version": "3.8.3"
  }
 },
 "nbformat": 4,
 "nbformat_minor": 4
}
