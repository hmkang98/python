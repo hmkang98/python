{
 "cells": [
  {
   "cell_type": "code",
   "execution_count": 12,
   "metadata": {},
   "outputs": [
    {
     "name": "stdout",
     "output_type": "stream",
     "text": [
      "Pearson 상관계수: 0.5013\n",
      "P-value: 0.0000\n"
     ]
    }
   ],
   "source": [
    "import pyreadstat\n",
    "import urllib.request\n",
    "from scipy.stats import pearsonr\n",
    "\n",
    "# url에 있는 파일을 로컬 컴퓨터에 다운로드 한다.\n",
    "url = 'https://hmkang98.github.io/spss/corr/pearson.sav'\n",
    "local_path = 'c:/data/pearson.sav'\n",
    "urllib.request.urlretrieve(url, local_path)\n",
    "\n",
    "# spss 파일을 읽는다.\n",
    "height, meta = pyreadstat.read_sav(local_path)\n",
    "\n",
    "# Pearson 상관계수와 p-value 계산\n",
    "correlation, p_value = pearsonr(height['father'], height['son'])\n",
    "\n",
    "# 결과 출력\n",
    "print(f\"Pearson 상관계수: {correlation:.4f}\")\n",
    "print(f\"P-value: {p_value:.4f}\")\n"
   ]
  },
  {
   "cell_type": "code",
   "execution_count": 15,
   "metadata": {},
   "outputs": [
    {
     "name": "stdout",
     "output_type": "stream",
     "text": [
      "Kendall 순위 상관계수: 0.5714\n",
      "P-value: 0.0610\n"
     ]
    }
   ],
   "source": [
    "import pandas as pd\n",
    "from scipy.stats import kendalltau\n",
    "\n",
    "# 샘플 데이터 생성\n",
    "data = {'키': [168,170,175,176,178,180,181,182],\n",
    "        '몸무게': [68,70,60,65,72,78,80,75]}\n",
    "\n",
    "df = pd.DataFrame(data)\n",
    "\n",
    "# Kendall 순위 상관계수 계산\n",
    "correlation, p_value = kendalltau(df['키'], df['몸무게'])\n",
    "\n",
    "# 결과 출력\n",
    "print(f\"Kendall 순위 상관계수: {correlation:.4f}\")\n",
    "print(f\"P-value: {p_value:.4f}\")"
   ]
  },
  {
   "cell_type": "code",
   "execution_count": 18,
   "metadata": {},
   "outputs": [
    {
     "name": "stdout",
     "output_type": "stream",
     "text": [
      "Spearman  순위 상관계수: -0.2136\n",
      "P-value: 0.5534\n"
     ]
    }
   ],
   "source": [
    "import pandas as pd\n",
    "from scipy.stats import spearmanr\n",
    "\n",
    "# 샘플 데이터 생성\n",
    "data = {'x': [86,97,99,100,100,103,106,110,113,113],\n",
    "        'y': [0,20,28,50,28,28,7,17,7,12]}\n",
    "\n",
    "df = pd.DataFrame(data)\n",
    "\n",
    "# Spearman  순위 상관계수 계산\n",
    "correlation, p_value = spearmanr(df['x'], df['y'])\n",
    "\n",
    "# 결과 출력(동점 순위는 평균 처리)\n",
    "print(f\"Spearman  순위 상관계수: {correlation:.4f}\")\n",
    "print(f\"P-value: {p_value:.4f}\")"
   ]
  },
  {
   "cell_type": "code",
   "execution_count": 7,
   "metadata": {},
   "outputs": [
    {
     "name": "stdout",
     "output_type": "stream",
     "text": [
      "X1 통제변수에 대한 편상관계수 :\n",
      "         n         r         CI95%     p-val\n",
      "pearson  6  0.883519  [0.01, 0.99]  0.046879\n",
      "\n",
      "X2 통제변수에 대한 편상관계수 :\n",
      "         n         r         CI95%     p-val\n",
      "pearson  6  0.478466  [-0.7, 0.96]  0.414914\n",
      "\n"
     ]
    }
   ],
   "source": [
    "import pandas as pd\n",
    "import pingouin as pg\n",
    "\n",
    "# 샘플 데이터 생성\n",
    "data = {'Y': [14, 23, 30, 50, 39, 67],\n",
    "        'X1': [4, 4, 7, 7, 10, 10],\n",
    "        'X2': [1, 2, 2, 4, 3, 4]}\n",
    "\n",
    "df = pd.DataFrame(data)\n",
    "\n",
    "# X1을 통제하여 Y와 X2 간의 편상관계수 계산\n",
    "result = pg.partial_corr(data=df, x='X2', y='Y', covar='X1')\n",
    "\n",
    "# X2을 통제하여 Y와 X1간의 편상관계수 계산\n",
    "result2 = pg.partial_corr(data=df, x='X1', y='Y', covar='X2')\n",
    "\n",
    "# 결과 출력\n",
    "print(f\"X1 통제변수에 대한 편상관계수 :\\n{result}\\n\")\n",
    "print(f\"X2 통제변수에 대한 편상관계수 :\\n{result2}\\n\")"
   ]
  },
  {
   "cell_type": "code",
   "execution_count": 20,
   "metadata": {},
   "outputs": [
    {
     "name": "stdout",
     "output_type": "stream",
     "text": [
      "Collecting pingouin\n",
      "  Downloading pingouin-0.5.3-py3-none-any.whl (198 kB)\n",
      "     -------------------------------------- 198.6/198.6 kB 2.0 MB/s eta 0:00:00\n",
      "Requirement already satisfied: numpy>=1.19 in c:\\users\\hmkang\\anaconda3\\lib\\site-packages (from pingouin) (1.24.3)\n",
      "Requirement already satisfied: scipy>=1.7 in c:\\users\\hmkang\\anaconda3\\lib\\site-packages (from pingouin) (1.10.1)\n",
      "Requirement already satisfied: pandas>=1.0 in c:\\users\\hmkang\\anaconda3\\lib\\site-packages (from pingouin) (2.0.3)\n",
      "Requirement already satisfied: matplotlib>=3.0.2 in c:\\users\\hmkang\\anaconda3\\lib\\site-packages (from pingouin) (3.2.2)\n",
      "Requirement already satisfied: seaborn>=0.11 in c:\\users\\hmkang\\anaconda3\\lib\\site-packages (from pingouin) (0.12.2)\n",
      "Collecting statsmodels>=0.13 (from pingouin)\n",
      "  Downloading statsmodels-0.14.0-cp38-cp38-win_amd64.whl (9.4 MB)\n",
      "     ---------------------------------------- 9.4/9.4 MB 4.1 MB/s eta 0:00:00\n",
      "Requirement already satisfied: scikit-learn in c:\\users\\hmkang\\anaconda3\\lib\\site-packages (from pingouin) (0.23.1)\n",
      "Collecting pandas-flavor>=0.2.0 (from pingouin)\n",
      "  Downloading pandas_flavor-0.6.0-py3-none-any.whl.metadata (6.3 kB)\n",
      "Collecting outdated (from pingouin)\n",
      "  Downloading outdated-0.2.2-py2.py3-none-any.whl (7.5 kB)\n",
      "Collecting tabulate (from pingouin)\n",
      "  Downloading tabulate-0.9.0-py3-none-any.whl (35 kB)\n",
      "Requirement already satisfied: cycler>=0.10 in c:\\users\\hmkang\\anaconda3\\lib\\site-packages (from matplotlib>=3.0.2->pingouin) (0.10.0)\n",
      "Requirement already satisfied: kiwisolver>=1.0.1 in c:\\users\\hmkang\\anaconda3\\lib\\site-packages (from matplotlib>=3.0.2->pingouin) (1.2.0)\n",
      "Requirement already satisfied: pyparsing!=2.0.4,!=2.1.2,!=2.1.6,>=2.0.1 in c:\\users\\hmkang\\anaconda3\\lib\\site-packages (from matplotlib>=3.0.2->pingouin) (2.4.7)\n",
      "Requirement already satisfied: python-dateutil>=2.1 in c:\\users\\hmkang\\anaconda3\\lib\\site-packages (from matplotlib>=3.0.2->pingouin) (2.8.2)\n",
      "Requirement already satisfied: pytz>=2020.1 in c:\\users\\hmkang\\anaconda3\\lib\\site-packages (from pandas>=1.0->pingouin) (2020.1)\n",
      "Requirement already satisfied: tzdata>=2022.1 in c:\\users\\hmkang\\anaconda3\\lib\\site-packages (from pandas>=1.0->pingouin) (2023.3)\n",
      "Collecting xarray (from pandas-flavor>=0.2.0->pingouin)\n",
      "  Downloading xarray-2023.1.0-py3-none-any.whl (973 kB)\n",
      "     -------------------------------------- 973.1/973.1 kB 4.4 MB/s eta 0:00:00\n",
      "Collecting patsy>=0.5.2 (from statsmodels>=0.13->pingouin)\n",
      "  Downloading patsy-0.5.4-py2.py3-none-any.whl.metadata (3.4 kB)\n",
      "Collecting packaging>=21.3 (from statsmodels>=0.13->pingouin)\n",
      "  Downloading packaging-23.2-py3-none-any.whl.metadata (3.2 kB)\n",
      "Requirement already satisfied: setuptools>=44 in c:\\users\\hmkang\\anaconda3\\lib\\site-packages (from outdated->pingouin) (49.2.0.post20200714)\n",
      "Collecting littleutils (from outdated->pingouin)\n",
      "  Downloading littleutils-0.2.2.tar.gz (6.6 kB)\n",
      "  Preparing metadata (setup.py): started\n",
      "  Preparing metadata (setup.py): finished with status 'done'\n",
      "Requirement already satisfied: requests in c:\\users\\hmkang\\anaconda3\\lib\\site-packages (from outdated->pingouin) (2.24.0)\n",
      "Requirement already satisfied: joblib>=0.11 in c:\\users\\hmkang\\anaconda3\\lib\\site-packages (from scikit-learn->pingouin) (1.0.1)\n",
      "Requirement already satisfied: threadpoolctl>=2.0.0 in c:\\users\\hmkang\\anaconda3\\lib\\site-packages (from scikit-learn->pingouin) (2.1.0)\n",
      "Requirement already satisfied: six in c:\\users\\hmkang\\anaconda3\\lib\\site-packages (from cycler>=0.10->matplotlib>=3.0.2->pingouin) (1.15.0)\n",
      "Requirement already satisfied: chardet<4,>=3.0.2 in c:\\users\\hmkang\\anaconda3\\lib\\site-packages (from requests->outdated->pingouin) (3.0.4)\n",
      "Requirement already satisfied: idna<3,>=2.5 in c:\\users\\hmkang\\anaconda3\\lib\\site-packages (from requests->outdated->pingouin) (2.10)\n",
      "Requirement already satisfied: urllib3!=1.25.0,!=1.25.1,<1.26,>=1.21.1 in c:\\users\\hmkang\\anaconda3\\lib\\site-packages (from requests->outdated->pingouin) (1.25.9)\n",
      "Requirement already satisfied: certifi>=2017.4.17 in c:\\users\\hmkang\\anaconda3\\lib\\site-packages (from requests->outdated->pingouin) (2020.6.20)\n",
      "Downloading pandas_flavor-0.6.0-py3-none-any.whl (7.2 kB)\n",
      "Downloading packaging-23.2-py3-none-any.whl (53 kB)\n",
      "   ---------------------------------------- 53.0/53.0 kB 910.0 kB/s eta 0:00:00\n",
      "Downloading patsy-0.5.4-py2.py3-none-any.whl (233 kB)\n",
      "   ---------------------------------------- 233.9/233.9 kB 3.6 MB/s eta 0:00:00\n",
      "Building wheels for collected packages: littleutils\n",
      "  Building wheel for littleutils (setup.py): started\n",
      "  Building wheel for littleutils (setup.py): finished with status 'done'\n",
      "  Created wheel for littleutils: filename=littleutils-0.2.2-py3-none-any.whl size=7052 sha256=37b0a7ff53980778e10400ffdd37ca527ad8991a1ebcb6b4595ff550bd1bb231\n",
      "  Stored in directory: c:\\users\\hmkang\\appdata\\local\\pip\\cache\\wheels\\6a\\33\\c4\\0ef84d7f5568c2823e3d63a6e08988852fb9e4bc822034870a\n",
      "Successfully built littleutils\n",
      "Installing collected packages: littleutils, tabulate, patsy, packaging, outdated, xarray, statsmodels, pandas-flavor, pingouin\n",
      "  Attempting uninstall: patsy\n",
      "    Found existing installation: patsy 0.5.1\n",
      "    Uninstalling patsy-0.5.1:\n",
      "      Successfully uninstalled patsy-0.5.1\n",
      "  Attempting uninstall: packaging\n",
      "    Found existing installation: packaging 20.4\n",
      "    Uninstalling packaging-20.4:\n",
      "      Successfully uninstalled packaging-20.4\n",
      "  Attempting uninstall: statsmodels\n",
      "    Found existing installation: statsmodels 0.11.1\n",
      "    Uninstalling statsmodels-0.11.1:\n",
      "      Successfully uninstalled statsmodels-0.11.1\n",
      "Successfully installed littleutils-0.2.2 outdated-0.2.2 packaging-23.2 pandas-flavor-0.6.0 patsy-0.5.4 pingouin-0.5.3 statsmodels-0.14.0 tabulate-0.9.0 xarray-2023.1.0\n",
      "Note: you may need to restart the kernel to use updated packages.\n"
     ]
    },
    {
     "name": "stderr",
     "output_type": "stream",
     "text": [
      "DEPRECATION: pyodbc 4.0.0-unsupported has a non-standard version number. pip 24.0 will enforce this behaviour change. A possible replacement is to upgrade to a newer version of pyodbc or contact the author to suggest that they release a version with a conforming version number. Discussion can be found at https://github.com/pypa/pip/issues/12063\n",
      "ERROR: pip's dependency resolver does not currently take into account all the packages that are installed. This behaviour is the source of the following dependency conflicts.\n",
      "spyder 4.1.4 requires pyqt5<5.13; python_version >= \"3\", which is not installed.\n",
      "spyder 4.1.4 requires pyqtwebengine<5.13; python_version >= \"3\", which is not installed.\n"
     ]
    }
   ],
   "source": [
    "pip install pingouin\n"
   ]
  },
  {
   "cell_type": "code",
   "execution_count": null,
   "metadata": {},
   "outputs": [],
   "source": [
    "import pyreadstat\n",
    "import urllib.request\n",
    "\n",
    "# url에 있는 파일을 로컬 컴퓨터에 다은로드 한다.\n",
    "url = 'https://hmkang98.github.io/data/spss/bmi2.sav'\n",
    "local_path = 'c:/data/bmi2.sav'\n",
    "urllib.request.urlretrieve(url, local_path)\n",
    "\n",
    "# spss 파일을 읽는다.\n",
    "bmi, meta = pyreadstat.read_sav(local_path)"
   ]
  }
 ],
 "metadata": {
  "kernelspec": {
   "display_name": "Python 3",
   "language": "python",
   "name": "python3"
  },
  "language_info": {
   "codemirror_mode": {
    "name": "ipython",
    "version": 3
   },
   "file_extension": ".py",
   "mimetype": "text/x-python",
   "name": "python",
   "nbconvert_exporter": "python",
   "pygments_lexer": "ipython3",
   "version": "3.8.3"
  }
 },
 "nbformat": 4,
 "nbformat_minor": 4
}
