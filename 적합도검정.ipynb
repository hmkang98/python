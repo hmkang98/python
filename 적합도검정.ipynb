{
 "cells": [
  {
   "cell_type": "code",
   "execution_count": 14,
   "metadata": {},
   "outputs": [
    {
     "name": "stdout",
     "output_type": "stream",
     "text": [
      "카이제곱 통계량: 2.28\n",
      "p-value: 0.517\n",
      "귀무가설을 기각하지 않습니다. 주어진 자료의 분포는 9:3:3:1 비율과 일치합니다.\n"
     ]
    }
   ],
   "source": [
    "from scipy.stats import chisquare\n",
    "\n",
    "observed_values = [107, 38, 45, 10]\n",
    "expected_values = [200*9/16, 200*3/16, 200*3/16, 200*1/16]  # 9:3:3:1의 비율\n",
    "\n",
    "chi2,p_value = chisquare(observed_values, f_exp=expected_values)\n",
    "\n",
    "print(f\"카이제곱 통계량: {chi2:.3}\")\n",
    "print(f\"p-value: {p_value:.3}\")\n",
    "\n",
    "if p_value < 0.05:\n",
    "    print(\"귀무가설을 기각합니다. 주어진 자료의 분포는 9:3:3:1 비율과 다릅니다.\")\n",
    "else:\n",
    "    print(\"귀무가설을 기각하지 않습니다. 주어진 자료의 분포는 9:3:3:1 비율과 일치합니다.\")\n"
   ]
  },
  {
   "cell_type": "code",
   "execution_count": 34,
   "metadata": {},
   "outputs": [
    {
     "name": "stdout",
     "output_type": "stream",
     "text": [
      "Kolmogorov-Smirnov 통계량: 0.1873\n",
      "P-value: 0.4623\n",
      "귀무가설을 기각하지 않습니다. 데이터는 정규분포를 따를 가능성이 있습니다.\n"
     ]
    },
    {
     "data": {
      "image/png": "[encoded data removed]",
      "text/plain": [
       "<Figure size 432x288 with 1 Axes>"
      ]
     },
     "metadata": {
      "needs_background": "light"
     },
     "output_type": "display_data"
    }
   ],
   "source": [
    "import numpy as np\n",
    "from scipy.stats import kstest, norm\n",
    "import matplotlib.pyplot as plt\n",
    "import pyreadstat\n",
    "import urllib.request\n",
    "\n",
    "# url에 있는 파일을 로컬 컴퓨터에 다운로드 한다.\n",
    "url = 'https://hmkang98.github.io/spss/bar/bmi2.sav'\n",
    "local_path='c:/data/bmi2.sav'\n",
    "urllib.request.urlretrieve(url,local_path)\n",
    "\n",
    "# spss 파일을 읽는다.\n",
    "bmi, meta = pyreadstat.read_sav(local_path)\n",
    "\n",
    "# 성별에 따른 키 데이터 추출\n",
    "height = bmi.키\n",
    "mheight = bmi[bmi.성별==2].키\n",
    "fheight = bmi[bmi.성별==1].키\n",
    "\n",
    "# 히스토그램 그리기\n",
    "plt.hist(mheight, bins=15, density=True, alpha=0.5, color='blue')\n",
    "\n",
    "# 이론적 정규분포의 확률밀도함수 그리기\n",
    "xmin, xmax = plt.xlim()\n",
    "x = np.linspace(xmin, xmax, 100)\n",
    "p = norm.pdf(x, np.mean(mheight), np.std(mheight))\n",
    "plt.plot(x, p, 'k', linewidth=2)\n",
    "\n",
    "# Kolmogorov-Smirnov 검정 수행\n",
    "ks_statistic, ks_p_value = kstest(mheight, 'norm', (np.mean(mheight), np.std(mheight)),'asymp')\n",
    "\n",
    "# Shapiro-Wilk 검정 수행\n",
    "shapiro_statistic, shapiro_p_value = shapiro(mheight)\n",
    "\n",
    "# 결과 출력\n",
    "print(f\"Kolmogorov-Smirnov 통계량: {ks_statistic:.4}\")\n",
    "print(f\"P-value: {ks_p_value:.4}\")\n",
    "\n",
    "# 검정 결과를 통해 정규분포를 따르는지 확인\n",
    "if ks_p_value > 0.05:\n",
    "    print(\"귀무가설을 기각하지 않습니다. 데이터는 정규분포를 따를 가능성이 있습니다.\")\n",
    "else:\n",
    "    print(\"귀무가설을 기각합니다. 데이터는 정규분포를 따르지 않을 가능성이 있습니다.\")"
   ]
  },
  {
   "cell_type": "code",
   "execution_count": 36,
   "metadata": {},
   "outputs": [
    {
     "name": "stdout",
     "output_type": "stream",
     "text": [
      "Shapiro-Wilk 통계량: 0.9581\n",
      "P-value: 0.5354\n",
      "귀무가설을 기각하지 않습니다. 데이터는 정규분포를 따를 가능성이 있습니다.\n"
     ]
    }
   ],
   "source": [
    "import numpy as np\n",
    "from scipy.stats import shapiro\n",
    "import matplotlib.pyplot as plt\n",
    "import pyreadstat\n",
    "import urllib.request\n",
    "\n",
    "# url에 있는 파일을 로컬 컴퓨터에 다운로드 한다.\n",
    "url = 'https://hmkang98.github.io/spss/bar/bmi2.sav'\n",
    "local_path='c:/data/bmi2.sav'\n",
    "urllib.request.urlretrieve(url,local_path)\n",
    "\n",
    "# spss 파일을 읽는다.\n",
    "bmi, meta = pyreadstat.read_sav(local_path)\n",
    "\n",
    "# 성별에 따른 키 데이터 추출\n",
    "height = bmi.키\n",
    "mheight = bmi[bmi.성별==2].키\n",
    "fheight = bmi[bmi.성별==1].키\n",
    "\n",
    "# Shapiro-Wilk 검정 수행\n",
    "shapiro_statistic, shapiro_p_value = shapiro(mheight)\n",
    "\n",
    "# 결과 출력\n",
    "print(f\"Shapiro-Wilk 통계량: {shapiro_statistic:.4}\")\n",
    "print(f\"P-value: {shapiro_p_value:.4}\")\n",
    "\n",
    "# 검정 결과를 통해 정규분포를 따르는지 확인\n",
    "if shapiro_p_value > 0.05:\n",
    "    print(\"귀무가설을 기각하지 않습니다. 데이터는 정규분포를 따를 가능성이 있습니다.\")\n",
    "else:\n",
    "    print(\"귀무가설을 기각합니다. 데이터는 정규분포를 따르지 않을 가능성이 있습니다.\")"
   ]
  },
  {
   "cell_type": "code",
   "execution_count": 60,
   "metadata": {},
   "outputs": [
    {
     "name": "stdout",
     "output_type": "stream",
     "text": [
      "승산비 : 3.822\n",
      "승산비에 대한 95% 신뢰구간 :  ConfidenceInterval(low=2.793414808434619, high=5.229936732610159)\n",
      "심근경생인 경우 상대위험도 : 2.415\n",
      "심근경생인 경우 상대위험도에 대한 95% 신뢰구간 : ConfidenceInterval(low=1.9532251434358545, high=2.9864438732742262)\n",
      "대조군인 경우 상대위험도 : 0.6319\n",
      "대조군인 경우 상대위험도에 대한 95% 신뢰구간 : ConfidenceInterval(low=0.562905286623256, high=0.7093155317710612)\n"
     ]
    }
   ],
   "source": [
    "from scipy.stats.contingency import odds_ratio, relative_risk\n",
    "\n",
    "# 승산비와 승산비에 대한 95% 신뢰구간\n",
    "oddsratio = odds_ratio([[172,173],[90,346]],kind='sample')\n",
    "print(f'승산비 : {oddsratio.statistic:.4}')\n",
    "print(f'승산비에 대한 95% 신뢰구간 :  {oddsratio.confidence_interval(confidence_level=0.95)}')\n",
    "\n",
    "#심근경색인 경우 상대위험도와 95% 신뢰구간\n",
    "rr = relative_risk(172,345,90,436) # (n_11,n_11+n_12,n_21,n_21+n_22)\n",
    "print(f'심근경색인 경우 상대위험도 : {rr.relative_risk:.4}')\n",
    "print(f'심근경색인 경우 상대위험도에 대한 95% 신뢰구간 : {rr.confidence_interval(confidence_level=0.95)}')\n",
    "\n",
    "# 대조군인 경우 상대위험도와 95% 신뢰구간\n",
    "rr2 = relative_risk(173,345,346,436) # (n_12,n_11+n_12,n_22,n_21+n_22)\n",
    "print(f'대조군인 경우 상대위험도 : {rr2.relative_risk:.4}')\n",
    "print(f'대조군인 경우 상대위험도에 대한 95% 신뢰구간 : {rr2.confidence_interval(confidence_level=0.95)}')"
   ]
  },
  {
   "cell_type": "code",
   "execution_count": 68,
   "metadata": {},
   "outputs": [
    {
     "name": "stdout",
     "output_type": "stream",
     "text": [
      "Pearson chi2 statistic : 5.869\n",
      "p_value : 0.05317\n",
      "G-square statistic : 5.977\n",
      "p_value : 0.05037\n"
     ]
    }
   ],
   "source": [
    "from scipy.stats import chi2_contingency\n",
    "import pandas as pd\n",
    "\n",
    "# 자료 입력\n",
    "data = pd.DataFrame([[10,17,7],[23,12,5]],columns=['2주 이하','4주 이하','5주 이상'],index=['착용','미착용'])\n",
    "\n",
    "# Pearson 카이제곱 통계량\n",
    "statistic,p_value,df,expected = chi2_contingency(data)\n",
    "print(f'Pearson chi2 statistic : {statistic:.4}')\n",
    "print(f'p_value : {p_value:.4}')\n",
    "\n",
    "# likelihood ratio chi-square test: G-test\n",
    "statistic,p_value,df,expected = chi2_contingency(data,lambda_='log-likelihood')\n",
    "print(f'G-square statistic : {statistic:.4}')\n",
    "print(f'p_value : {p_value:.4}')"
   ]
  },
  {
   "cell_type": "code",
   "execution_count": 70,
   "metadata": {},
   "outputs": [
    {
     "name": "stdout",
     "output_type": "stream",
     "text": [
      "p_value : 0.2429\n"
     ]
    }
   ],
   "source": [
    "from scipy.stats import fisher_exact\n",
    "import pandas as pd\n",
    "\n",
    "# 자료 입력\n",
    "data = pd.DataFrame([[3,1],[1,3]],columns=['우유','홍차'],index=['우유','홍차'])\n",
    "\n",
    "# Pearson 카이제곱 통계량\n",
    "statistic,p_value = fisher_exact(data,alternative='greater')\n",
    "print(f'p_value : {p_value:.4}')"
   ]
  },
  {
   "cell_type": "code",
   "execution_count": 90,
   "metadata": {},
   "outputs": [
    {
     "name": "stdout",
     "output_type": "stream",
     "text": [
      "0.093\n",
      "2.82\n"
     ]
    }
   ],
   "source": [
    "from statsmodels.stats.contingency_tables import mcnemar\n",
    "import pandas as pd\n",
    "\n",
    "# 자료 입력\n",
    "data = pd.DataFrame([[500,450],[400,450]],columns=['찬성','반대'],index=['찬성','반대'])\n",
    "\n",
    "# Pearson 카이제곱 통계량, correction=True는 연속성 수정\n",
    "mc = mcnemar(data,exact=False,correction=True)\n",
    "print(f'{mc.pvalue:.2}')\n",
    "print(f'{mc.statistic:.3}')"
   ]
  },
  {
   "cell_type": "code",
   "execution_count": 110,
   "metadata": {},
   "outputs": [
    {
     "name": "stdout",
     "output_type": "stream",
     "text": [
      "                   Estimate   LCB    UCB \n",
      "-----------------------------------------\n",
      "Pooled odds           2.174   1.984 2.383\n",
      "Pooled log odds       0.777   0.685 0.868\n",
      "Pooled risk ratio     1.519              \n",
      "                                         \n",
      "                 Statistic P-value \n",
      "-----------------------------------\n",
      "Test of OR=1       280.138   0.000 \n",
      "Test constant OR     5.200   0.636 \n",
      "                       \n",
      "-----------------------\n",
      "Number of tables    8  \n",
      "Min n             213  \n",
      "Max n            2900  \n",
      "Avg n            1052  \n",
      "Total n          8419  \n",
      "-----------------------\n",
      "           smoking_yes_cancer_yes  smoking_yes_cancer_no  \\\n",
      "Location                                                   \n",
      "Beijing                       126                    100   \n",
      "Shanghai                      908                    688   \n",
      "Shenyang                      913                    747   \n",
      "Nanjng                        235                    172   \n",
      "Harbin                        402                    308   \n",
      "Zhengzhou                     182                    156   \n",
      "Taiyuan                        60                     99   \n",
      "Nanchang                      104                     89   \n",
      "\n",
      "           smoking_no_cancer_yes  smoking_no_cancer_no  \n",
      "Location                                                \n",
      "Beijing                       35                    61  \n",
      "Shanghai                     497                   807  \n",
      "Shenyang                     336                   598  \n",
      "Nanjng                        58                   121  \n",
      "Harbin                       121                   215  \n",
      "Zhengzhou                     72                    98  \n",
      "Taiyuan                       11                    43  \n",
      "Nanchang                      21                    36  \n",
      "Smoking and lung cancer in Chinese regions\n",
      "    Location  smoking_yes_cancer_yes  smoking_yes_cancer_no  \\\n",
      "0    Beijing                     126                    100   \n",
      "1   Shanghai                     908                    688   \n",
      "2   Shenyang                     913                    747   \n",
      "3     Nanjng                     235                    172   \n",
      "4     Harbin                     402                    308   \n",
      "5  Zhengzhou                     182                    156   \n",
      "6    Taiyuan                      60                     99   \n",
      "7   Nanchang                     104                     89   \n",
      "\n",
      "   smoking_no_cancer_yes  smoking_no_cancer_no  \n",
      "0                     35                    61  \n",
      "1                    497                   807  \n",
      "2                    336                   598  \n",
      "3                     58                   121  \n",
      "4                    121                   215  \n",
      "5                     72                    98  \n",
      "6                     11                    43  \n",
      "7                     21                    36  \n"
     ]
    }
   ],
   "source": [
    "import numpy as np\n",
    "import pandas as pd\n",
    "import statsmodels.api as sm\n",
    "data = sm.datasets.china_smoking.load_pandas()\n",
    "mat = np.asarray(data.data)\n",
    "tables = [np.reshape(x.tolist(), (2, 2)) for x in mat]\n",
    "st = sm.stats.StratifiedTable(tables)\n",
    "print(st.summary())\n",
    "print(data.data)\n",
    "print(data.title)\n",
    "print(data.raw_data)"
   ]
  },
  {
   "cell_type": "code",
   "execution_count": 127,
   "metadata": {},
   "outputs": [
    {
     "name": "stdout",
     "output_type": "stream",
     "text": [
      "                   Estimate   LCB    UCB  \n",
      "------------------------------------------\n",
      "Pooled odds           0.843   0.729  0.975\n",
      "Pooled log odds      -0.170  -0.316 -0.025\n",
      "Pooled risk ratio     0.920               \n",
      "                                          \n",
      "                 Statistic P-value \n",
      "-----------------------------------\n",
      "Test of OR=1         5.274   0.022 \n",
      "Test constant OR    22.866   0.000 \n",
      "                       \n",
      "-----------------------\n",
      "Number of tables    6  \n",
      "Min n             584  \n",
      "Max n             933  \n",
      "Avg n             754  \n",
      "Total n          4526  \n",
      "-----------------------\n"
     ]
    }
   ],
   "source": [
    "# raw data를 리스트로 입력\n",
    "data=[[512,353,120,138,53,224],[313,207,205,279,138,149],[89,17,202,131,94,239],[19,8,391,244,299,102]]\n",
    "rlabel = ['male_admit','male_reject','female_admit','female_reject']\n",
    "clabel = ['A','B','C','D','E','F']\n",
    "data = pd.DataFrame(data,index=rlabel,columns=clabel)\n",
    "\n",
    "# 데이터프레임을 array로 변환\n",
    "mat = np.asarray(data)\n",
    "\n",
    "# 열 갯수가 4개 되도록 행렬을 전치\n",
    "mat = mat.T\n",
    "\n",
    "# 2 x 2 x 6 행렬로 변환 \n",
    "tables = [np.reshape(x.tolist(), (2, 2)) for x in mat]\n",
    "\n",
    "# CHM 검정실행 \n",
    "st = sm.stats.StratifiedTable(tables)\n",
    "print(st.summary())\n"
   ]
  },
  {
   "cell_type": "code",
   "execution_count": 130,
   "metadata": {},
   "outputs": [
    {
     "data": {
      "text/plain": [
       "[array([[512, 313],\n",
       "        [ 89,  19]]),\n",
       " array([[353, 207],\n",
       "        [ 17,   8]]),\n",
       " array([[120, 205],\n",
       "        [202, 391]]),\n",
       " array([[138, 279],\n",
       "        [131, 244]]),\n",
       " array([[ 53, 138],\n",
       "        [ 94, 299]]),\n",
       " array([[224, 149],\n",
       "        [239, 102]])]"
      ]
     },
     "execution_count": 130,
     "metadata": {},
     "output_type": "execute_result"
    }
   ],
   "source": [
    "tables"
   ]
  },
  {
   "cell_type": "code",
   "execution_count": null,
   "metadata": {},
   "outputs": [],
   "source": []
  }
 ],
 "metadata": {
  "kernelspec": {
   "display_name": "Python 3",
   "language": "python",
   "name": "python3"
  },
  "language_info": {
   "codemirror_mode": {
    "name": "ipython",
    "version": 3
   },
   "file_extension": ".py",
   "mimetype": "text/x-python",
   "name": "python",
   "nbconvert_exporter": "python",
   "pygments_lexer": "ipython3",
   "version": "3.8.3"
  }
 },
 "nbformat": 4,
 "nbformat_minor": 4
}
