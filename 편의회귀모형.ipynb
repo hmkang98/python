{
 "cells": [
  {
   "cell_type": "code",
   "execution_count": 8,
   "metadata": {},
   "outputs": [
    {
     "name": "stdout",
     "output_type": "stream",
     "text": [
      "최적의 매개변수: {'alpha': 0.1, 'l1_ratio': 0.1}\n",
      "최적 모델의 평균제곱오차(MSE): 22.62183113267264\n",
      "최적 모델의 회귀 계수: [-0.714  0.703 -0.288  0.733 -1.268  2.827 -0.106 -2.186  1.137 -0.833 -1.81   0.813 -3.306]\n",
      "첫 번째 값에 대한 예측값은 30.3, 실제값은 24.0\n"
     ]
    }
   ],
   "source": [
    "import numpy as np\n",
    "import pandas as pd\n",
    "from sklearn.linear_model import ElasticNet\n",
    "from sklearn.preprocessing import StandardScaler\n",
    "from sklearn.metrics import mean_squared_error\n",
    "from sklearn.model_selection import GridSearchCV\n",
    "\n",
    "# 데이터 로드\n",
    "data_url = \"http://lib.stat.cmu.edu/datasets/boston\"\n",
    "raw_df = pd.read_csv(data_url, sep=\"\\s+\", skiprows=22, header=None)\n",
    "data = np.hstack([raw_df.values[::2, :], raw_df.values[1::2, :2]])\n",
    "target = raw_df.values[1::2, 2]\n",
    "\n",
    "X = data\n",
    "y = target\n",
    "\n",
    "# 데이터 표준화\n",
    "scaler = StandardScaler()\n",
    "X = scaler.fit_transform(X)\n",
    "\n",
    "# ElasticNet 모델 정의\n",
    "elasticnet = ElasticNet()\n",
    "\n",
    "# 탐색할 매개변수 그리드 설정\n",
    "param_grid = {\n",
    "    'alpha': [0.001, 0.01, 0.1, 1, 10],\n",
    "    'l1_ratio': [0.1, 0.3, 0.5, 0.7, 0.9]\n",
    "}\n",
    "\n",
    "# GridSearchCV 객체 생성\n",
    "grid_search = GridSearchCV(elasticnet, param_grid, scoring='neg_mean_squared_error', cv=5)\n",
    "grid_search.fit(X, y)\n",
    "\n",
    "# 최적의 매개변수 출력\n",
    "print(\"최적의 매개변수:\", grid_search.best_params_)\n",
    "\n",
    "# 최적의 모델 얻기\n",
    "best_elasticnet = grid_search.best_estimator_\n",
    "\n",
    "# 최적의 모델로 예측 수행\n",
    "y_pred = best_elasticnet.predict(X)\n",
    "\n",
    "# 평가 지표 계산\n",
    "mse = mean_squared_error(y, y_pred)\n",
    "print(\"최적 모델의 평균제곱오차(MSE):\", mse)\n",
    "print(\"최적 모델의 회귀 계수:\", best_elasticnet.coef_)\n",
    "print(f\"첫 번째 값에 대한 예측값은 {y_pred[0]:.3}, 실제값은 {y[0]:.3}\")"
   ]
  },
  {
   "cell_type": "code",
   "execution_count": 18,
   "metadata": {},
   "outputs": [
    {
     "name": "stdout",
     "output_type": "stream",
     "text": [
      "최적의 매개변수: {'alpha': 10}\n",
      "최적 모델의 평균제곱오차(MSE): 21.96759118773844\n",
      "최적 모델의 회귀 계수: [-0.859  0.955 -0.041  0.708 -1.813  2.742 -0.032 -2.857  2.098 -1.565 -1.988  0.845 -3.624]\n",
      "첫 번째 값에 대한 예측값은 30.2, 실제값은 24.0\n"
     ]
    }
   ],
   "source": [
    "import numpy as np\n",
    "import pandas as pd\n",
    "from sklearn.linear_model import Ridge\n",
    "from sklearn.preprocessing import StandardScaler\n",
    "from sklearn.model_selection import GridSearchCV\n",
    "\n",
    "# 데이터 로드\n",
    "data_url = \"http://lib.stat.cmu.edu/datasets/boston\"\n",
    "raw_df = pd.read_csv(data_url, sep=\"\\s+\", skiprows=22, header=None)\n",
    "data = np.hstack([raw_df.values[::2, :], raw_df.values[1::2, :2]])\n",
    "target = raw_df.values[1::2, 2]\n",
    "save = np.hstack([raw_df.values[::2, :], raw_df.values[1::2, :]])\n",
    "df = pd.DataFrame(save)\n",
    "df.to_csv('boston.csv',index=False)\n",
    "X = data\n",
    "y = target\n",
    "\n",
    "# 데이터 표준화\n",
    "scaler = StandardScaler()\n",
    "X = scaler.fit_transform(X)\n",
    "\n",
    "# Ridge 모델 정의\n",
    "ridge = Ridge()\n",
    "\n",
    "# 탐색할 매개변수 그리드 설정\n",
    "param_grid = {\n",
    "    'alpha': [0.001, 0.01, 0.1, 1,10]\n",
    "}\n",
    "\n",
    "# GridSearchCV 객체 생성\n",
    "grid_search = GridSearchCV(ridge, param_grid, scoring='neg_mean_squared_error', cv=5)\n",
    "grid_search.fit(X, y)\n",
    "\n",
    "# 최적의 매개변수 출력\n",
    "print(\"최적의 매개변수:\", grid_search.best_params_)\n",
    "\n",
    "# 최적의 모델 얻기\n",
    "best_ridge = grid_search.best_estimator_\n",
    "\n",
    "# 최적의 모델로 예측 수행\n",
    "y_pred = best_ridge.predict(X)\n",
    "\n",
    "# 평가 지표 계산\n",
    "mse = mean_squared_error(y, y_pred)\n",
    "print(\"최적 모델의 평균제곱오차(MSE):\", mse)\n",
    "print(\"최적 모델의 회귀 계수:\", best_ridge.coef_)\n",
    "print(f\"첫 번째 값에 대한 예측값은 {y_pred[0]:.3}, 실제값은 {y[0]:.3}\")"
   ]
  },
  {
   "cell_type": "code",
   "execution_count": 17,
   "metadata": {},
   "outputs": [
    {
     "name": "stdout",
     "output_type": "stream",
     "text": [
      "최적의 매개변수: {'alpha': 0.1}\n",
      "최적 모델의 평균제곱오차(MSE): 22.34506512886424\n",
      "최적 모델의 회귀 계수: [-0.632  0.708 -0.     0.658 -1.574  2.826 -0.    -2.422  1.196 -0.846 -1.922  0.762 -3.726]\n",
      "첫 번째 값에 대한 예측값은 30.4, 실제값은 24.0\n"
     ]
    }
   ],
   "source": [
    "import numpy as np\n",
    "import pandas as pd\n",
    "from sklearn.linear_model import Lasso\n",
    "from sklearn.preprocessing import StandardScaler\n",
    "from sklearn.model_selection import GridSearchCV\n",
    "\n",
    "# 데이터 로드\n",
    "data_url = \"http://lib.stat.cmu.edu/datasets/boston\"\n",
    "raw_df = pd.read_csv(data_url, sep=\"\\s+\", skiprows=22, header=None)\n",
    "data = np.hstack([raw_df.values[::2, :], raw_df.values[1::2, :2]])\n",
    "target = raw_df.values[1::2, 2]\n",
    "\n",
    "X = data\n",
    "y = target\n",
    "\n",
    "# 데이터 표준화\n",
    "scaler = StandardScaler()\n",
    "X = scaler.fit_transform(X)\n",
    "\n",
    "# Ridge 모델 정의\n",
    "lasso = Lasso()\n",
    "\n",
    "# 탐색할 매개변수 그리드 설정\n",
    "param_grid = {\n",
    "    'alpha': [0.001, 0.01, 0.1, 1,10]\n",
    "}\n",
    "\n",
    "# GridSearchCV 객체 생성\n",
    "grid_search = GridSearchCV(lasso, param_grid, scoring='neg_mean_squared_error', cv=5)\n",
    "grid_search.fit(X, y)\n",
    "\n",
    "# 최적의 매개변수 출력\n",
    "print(\"최적의 매개변수:\", grid_search.best_params_)\n",
    "\n",
    "# 최적의 모델 얻기\n",
    "best_lasso = grid_search.best_estimator_\n",
    "\n",
    "# 최적의 모델로 예측 수행\n",
    "y_pred = best_lasso.predict(X)\n",
    "\n",
    "# 평가 지표 계산\n",
    "mse = mean_squared_error(y, y_pred)\n",
    "print(\"최적 모델의 평균제곱오차(MSE):\", mse)\n",
    "print(\"최적 모델의 회귀 계수:\", best_lasso.coef_)\n",
    "print(f\"첫 번째 값에 대한 예측값은 {y_pred[0]:.3}, 실제값은 {y[0]:.3}\")"
   ]
  },
  {
   "cell_type": "code",
   "execution_count": null,
   "metadata": {},
   "outputs": [],
   "source": []
  }
 ],
 "metadata": {
  "kernelspec": {
   "display_name": "Python 3",
   "language": "python",
   "name": "python3"
  },
  "language_info": {
   "codemirror_mode": {
    "name": "ipython",
    "version": 3
   },
   "file_extension": ".py",
   "mimetype": "text/x-python",
   "name": "python",
   "nbconvert_exporter": "python",
   "pygments_lexer": "ipython3",
   "version": "3.8.3"
  }
 },
 "nbformat": 4,
 "nbformat_minor": 4
}
